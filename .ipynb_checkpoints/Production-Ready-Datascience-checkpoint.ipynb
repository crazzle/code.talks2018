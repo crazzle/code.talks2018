{
 "cells": [
  {
   "cell_type": "code",
   "execution_count": 1,
   "metadata": {
    "scrolled": true,
    "slideshow": {
     "slide_type": "skip"
    }
   },
   "outputs": [
    {
     "name": "stderr",
     "output_type": "stream",
     "text": [
      "/Users/markkeinhorster/.venv/tf_weather_service/lib/python2.7/site-packages/h5py/__init__.py:36: FutureWarning: Conversion of the second argument of issubdtype from `float` to `np.floating` is deprecated. In future, it will be treated as `np.float64 == np.dtype(float).type`.\n",
      "  from ._conv import register_converters as _register_converters\n",
      "Using TensorFlow backend.\n"
     ]
    }
   ],
   "source": [
    "from luigi.contrib.external_program import ExternalProgramTask\n",
    "from luigi.parameter import IntParameter, Parameter\n",
    "from luigi import LocalTarget, Task\n",
    "from matplotlib import pyplot as plt\n",
    "%matplotlib inline\n",
    "import keras\n",
    "from keras import *\n",
    "from keras.preprocessing.image import ImageDataGenerator\n",
    "from keras.models import Sequential\n",
    "from keras.layers import Dense, Dropout, Activation, Flatten, Conv2D, MaxPooling2D, ZeroPadding2D\n",
    "from keras.optimizers import RMSprop\n",
    "from keras.layers.normalization import BatchNormalization\n",
    "from keras.layers.advanced_activations import LeakyReLU\n",
    "import numpy\n",
    "import cv2"
   ]
  },
  {
   "cell_type": "markdown",
   "metadata": {
    "slideshow": {
     "slide_type": "skip"
    }
   },
   "source": [
    "# We need this function to exploratory plot images"
   ]
  },
  {
   "cell_type": "code",
   "execution_count": 2,
   "metadata": {
    "slideshow": {
     "slide_type": "skip"
    }
   },
   "outputs": [],
   "source": [
    "def plot_images(start_from=0, columns=3, rows=3, test=True):\n",
    "    fig=plt.figure(figsize=(6, 6))\n",
    "    for i in range(1+start_from, columns*rows+1+start_from):\n",
    "        if not test:\n",
    "            img = cv2.imread(\"dataset/fruit-images-dataset/%s/%s\" % (\"Training\", train_data.filenames[i]))\n",
    "        else:\n",
    "            img = cv2.imread(\"dataset/fruit-images-dataset/%s/%s\" % (\"Test\", test_data.filenames[i]))\n",
    "        \n",
    "        b,g,r = cv2.split(img)       # get b,g,r\n",
    "        img = cv2.merge([r,g,b])     # switch it to rgb\n",
    "        fig.add_subplot(rows, columns, i-start_from)\n",
    "        plt.xticks([]), plt.yticks([]) \n",
    "        plt.imshow(img)\n",
    "    plt.show()"
   ]
  },
  {
   "cell_type": "markdown",
   "metadata": {},
   "source": [
    "<img src=\"slides/title.png\">"
   ]
  },
  {
   "cell_type": "markdown",
   "metadata": {
    "slideshow": {
     "slide_type": "subslide"
    }
   },
   "source": [
    "# About this Workshop"
   ]
  },
  {
   "cell_type": "markdown",
   "metadata": {},
   "source": [
    "<center>Interactively build a model that differentiates between limes and bananas</center> \n",
    "<center>Get a glimpse of production-readiness</center> \n",
    "<center>Learn about Luigi pipelines and their main components</center>\n",
    "<center>Write your production ready pipeline</center>\n",
    "<center>Get an overview of luigis modules</center>\n",
    "<center>Take a glimpse at TensorFlow Serving for model deployment</center>\n",
    "    \n"
   ]
  },
  {
   "cell_type": "markdown",
   "metadata": {
    "slideshow": {
     "slide_type": "slide"
    }
   },
   "source": [
    "# Building the model interactively"
   ]
  },
  {
   "cell_type": "markdown",
   "metadata": {
    "slideshow": {
     "slide_type": "-"
    }
   },
   "source": [
    "## Download dataset"
   ]
  },
  {
   "cell_type": "code",
   "execution_count": null,
   "metadata": {},
   "outputs": [],
   "source": [
    "!mkdir -p dataset\n",
    "!curl -L -o dataset/dataset_v1.zip http://plainpixels.work/resources/datasets/dataset_v1.zip\n",
    "!unzip -u -q -d dataset/fruit-images-dataset dataset/dataset_v1.zip"
   ]
  },
  {
   "cell_type": "code",
   "execution_count": 7,
   "metadata": {},
   "outputs": [
    {
     "name": "stdout",
     "output_type": "stream",
     "text": [
      "\u001b[34mBanana\u001b[m\u001b[m \u001b[34mLemon\u001b[m\u001b[m\r\n"
     ]
    }
   ],
   "source": [
    "!ls dataset/fruit-images-dataset/Test"
   ]
  },
  {
   "cell_type": "markdown",
   "metadata": {
    "slideshow": {
     "slide_type": "subslide"
    }
   },
   "source": [
    "# Explore the data"
   ]
  },
  {
   "cell_type": "code",
   "execution_count": 3,
   "metadata": {
    "slideshow": {
     "slide_type": "subslide"
    }
   },
   "outputs": [
    {
     "name": "stdout",
     "output_type": "stream",
     "text": [
      "Found 982 images belonging to 2 classes.\n",
      "Found 330 images belonging to 2 classes.\n"
     ]
    }
   ],
   "source": [
    "img_height, img_width = 100, 100\n",
    "\n",
    "images_train_path = 'dataset/fruit-images-dataset/Training/'\n",
    "images_test_path = 'dataset/fruit-images-dataset/Test/'\n",
    "\n",
    "imageGenTrain = ImageDataGenerator(rescale=1. / 255)\n",
    "imageGenTest = ImageDataGenerator(rescale=1. / 255)\n",
    "train_data = imageGenTrain.flow_from_directory(images_train_path, \n",
    "                                               target_size=(img_height, img_width), color_mode='rgb', batch_size=32)\n",
    "test_data = imageGenTest.flow_from_directory(images_test_path, \n",
    "                                             target_size=(img_height, img_width), color_mode='rgb', batch_size=32)"
   ]
  },
  {
   "cell_type": "code",
   "execution_count": 4,
   "metadata": {
    "scrolled": true,
    "slideshow": {
     "slide_type": "subslide"
    }
   },
   "outputs": [
    {
     "name": "stdout",
     "output_type": "stream",
     "text": [
      "shape  : \t(100, 100, 3)\n",
      "classes: \t2, {'Lemon': 1, 'Banana': 0}\n",
      "size   : \t982\n"
     ]
    },
    {
     "data": {
      "image/png": "[encoded data removed]",
      "text/plain": [
       "<Figure size 432x288 with 1 Axes>"
      ]
     },
     "metadata": {},
     "output_type": "display_data"
    }
   ],
   "source": [
    "input_shape = train_data.image_shape\n",
    "classes = train_data.class_indices\n",
    "num_classes = len(classes)\n",
    "class_counts = numpy.unique(train_data.classes, return_counts=True)[1]\n",
    "print \"shape  : \\t(%s, %s, %s)\" % input_shape\n",
    "print \"classes: \\t%s, %s\" % (num_classes, classes)\n",
    "print \"size   : \\t%s\" % train_data.n\n",
    "chart = plt.bar(classes.keys(), class_counts)\n",
    "plt.show(chart)"
   ]
  },
  {
   "cell_type": "code",
   "execution_count": 5,
   "metadata": {
    "scrolled": true,
    "slideshow": {
     "slide_type": "subslide"
    }
   },
   "outputs": [
    {
     "data": {
      "image/png": "[encoded data removed]",
      "text/plain": [
       "<Figure size 432x432 with 3 Axes>"
      ]
     },
     "metadata": {},
     "output_type": "display_data"
    },
    {
     "data": {
      "image/png": "[encoded data removed]",
      "text/plain": [
       "<Figure size 432x432 with 3 Axes>"
      ]
     },
     "metadata": {},
     "output_type": "display_data"
    }
   ],
   "source": [
    "plot_images(start_from=0, rows=1)\n",
    "plot_images(start_from=170, rows=1)"
   ]
  },
  {
   "cell_type": "markdown",
   "metadata": {
    "slideshow": {
     "slide_type": "slide"
    }
   },
   "source": [
    "# Build a baseline model \n",
    "## Distinguish Limes from Bananas using OpenCV"
   ]
  },
  {
   "cell_type": "code",
   "execution_count": 6,
   "metadata": {
    "slideshow": {
     "slide_type": "-"
    }
   },
   "outputs": [
    {
     "name": "stdout",
     "output_type": "stream",
     "text": [
      "Accuracy: 0.957576\n"
     ]
    }
   ],
   "source": [
    "path = \"dataset/fruit-images-dataset/Test/\"\n",
    "correct = 0.0\n",
    "for i in range(0, test_data.n):\n",
    "    label = test_data.classes[i]\n",
    "    img = cv2.imread(\"%s/%s\" % (path, test_data.filenames[i]))\n",
    "    im = cv2.cvtColor(img, cv2.COLOR_BGR2GRAY)\n",
    "    circles = cv2.HoughCircles(im, cv2.HOUGH_GRADIENT, \n",
    "                               dp=2, minDist=15, param1=100, param2=70)\n",
    "    if circles is not None:\n",
    "        if label == 1:\n",
    "            correct += 1\n",
    "    elif circles is None:\n",
    "        if label == 0:\n",
    "            correct += 1\n",
    "\n",
    "print \"Accuracy: %f\" % (correct/test_data.n)"
   ]
  },
  {
   "cell_type": "markdown",
   "metadata": {
    "slideshow": {
     "slide_type": "slide"
    }
   },
   "source": [
    "# Use a deeplearning model "
   ]
  },
  {
   "cell_type": "markdown",
   "metadata": {
    "slideshow": {
     "slide_type": "subslide"
    }
   },
   "source": [
    "## Create the model using Keras "
   ]
  },
  {
   "cell_type": "code",
   "execution_count": 19,
   "metadata": {},
   "outputs": [],
   "source": [
    "model = Sequential()\n",
    "model.add(Conv2D(filters=2, kernel_size=(3, 3), strides=1, activation='relu', input_shape=input_shape))\n",
    "model.add(BatchNormalization())\n",
    "model.add(MaxPooling2D(pool_size=(2, 2)))\n",
    "model.add(Dropout(rate=0.5))\n",
    "model.add(Flatten())\n",
    "model.add(Dense(units=16, activation='relu'))\n",
    "model.add(Dropout(rate=0.5))\n",
    "model.add(Dense(units=num_classes, activation='softmax'))\n",
    "model.compile(loss = 'categorical_crossentropy',\n",
    "              optimizer = keras.optimizers.RMSprop(), \n",
    "              metrics = ['accuracy'])"
   ]
  },
  {
   "cell_type": "markdown",
   "metadata": {
    "slideshow": {
     "slide_type": "subslide"
    }
   },
   "source": [
    "## Train the model"
   ]
  },
  {
   "cell_type": "code",
   "execution_count": 20,
   "metadata": {
    "slideshow": {
     "slide_type": "-"
    }
   },
   "outputs": [
    {
     "name": "stdout",
     "output_type": "stream",
     "text": [
      "Epoch 1/5\n",
      "Epoch 2/5\n",
      "Epoch 3/5\n",
      "Epoch 4/5\n",
      "Epoch 5/5\n",
      "[0.5957894736842105, 0.7452631580202203, 0.9726315789473684, 0.9895833333333334, 0.9884210522551286]\n"
     ]
    }
   ],
   "source": [
    "epochs = 5\n",
    "steps_per_epoch = train_data.samples // train_data.batch_size\n",
    "validation_steps = test_data.samples // test_data.batch_size\n",
    "\n",
    "history_dict = model.fit_generator(\n",
    "  train_data,\n",
    "  steps_per_epoch=steps_per_epoch,\n",
    "  epochs=epochs,\n",
    "  verbose=3\n",
    ")\n",
    "\n",
    "print(history_dict.history['acc'])"
   ]
  },
  {
   "cell_type": "markdown",
   "metadata": {
    "slideshow": {
     "slide_type": "subslide"
    }
   },
   "source": [
    "## Evaluate the model"
   ]
  },
  {
   "cell_type": "code",
   "execution_count": 22,
   "metadata": {
    "slideshow": {
     "slide_type": "-"
    }
   },
   "outputs": [
    {
     "name": "stdout",
     "output_type": "stream",
     "text": [
      "[0.018613455768949776, 0.9939393939393939]\n"
     ]
    }
   ],
   "source": [
    "evaluation = model.evaluate_generator(test_data)\n",
    "print evaluation"
   ]
  },
  {
   "cell_type": "code",
   "execution_count": 23,
   "metadata": {
    "slideshow": {
     "slide_type": "skip"
    }
   },
   "outputs": [
    {
     "name": "stdout",
     "output_type": "stream",
     "text": [
      "Found 330 images belonging to 2 classes.\n",
      "Accuracy: 0.990909, correct: 327.000000\n"
     ]
    }
   ],
   "source": [
    "test_it = imageGenTest.flow_from_directory(images_test_path, \n",
    "                                           target_size=(img_height, img_width), \n",
    "                                           color_mode='rgb', \n",
    "                                           batch_size=32,\n",
    "                                           shuffle=False)\n",
    "prediction = model.predict_generator(test_it)\n",
    "\n",
    "correct = 0.0\n",
    "for i in range(1, test_data.n):\n",
    "    pred = prediction[i].argmax()\n",
    "    proba = prediction[i].max()\n",
    "    label = test_data.classes[i]\n",
    "    if pred == label:\n",
    "        correct += 1\n",
    "        \n",
    "acc = correct / test_data.n\n",
    "print \"Accuracy: %f, correct: %f\" % (acc, correct)"
   ]
  },
  {
   "cell_type": "markdown",
   "metadata": {
    "slideshow": {
     "slide_type": "slide"
    }
   },
   "source": [
    "# It works, now DEPLOY it!\n",
    "\n",
    "<img src=\"slides/deploy_to_prod.jpg\">"
   ]
  },
  {
   "cell_type": "markdown",
   "metadata": {
    "slideshow": {
     "slide_type": "subslide"
    }
   },
   "source": [
    "<img src=\"slides/production.png\">"
   ]
  },
  {
   "cell_type": "markdown",
   "metadata": {
    "slideshow": {
     "slide_type": "slide"
    }
   },
   "source": [
    "# A bit about Luigi \n",
    "\n",
    "Luigi helps to stitch long running tasks together into pipelines\n",
    "    \n",
    "It contains a wide toolbox of task templates (e.g. Hive, Pig, Spark, Python)\n",
    "\n",
    "# How to compose workflows? \n",
    "\n",
    "A workflow consists of Tasks, Targets and Parameters\n",
    "\n",
    "Targets correspond to a file or a database entry or some other kind of checkpoint\n",
    "\n",
    "Tasks consume Targets of other tasks, run a computation, then output a target\n",
    "\n",
    "Parameters take care of task parameterization"
   ]
  },
  {
   "cell_type": "markdown",
   "metadata": {
    "slideshow": {
     "slide_type": "slide"
    }
   },
   "source": [
    "# Targets\n",
    "\n",
    "- Files on disk or database entries\n",
    "- Checkpoints that prevent tasks from multiple executions\n",
    "- A lot of implementations already exist in the Luigi framework\n",
    "- LocalTarget (File), RemoteTarget (SSH), HDFSTarget, MySqlTarget, ..."
   ]
  },
  {
   "cell_type": "markdown",
   "metadata": {
    "slideshow": {
     "slide_type": "subslide"
    }
   },
   "source": [
    "# Targets\n",
    "\n",
    "<img src=\"slides/luigi_targets.png\" width=\"90%\">"
   ]
  },
  {
   "cell_type": "markdown",
   "metadata": {
    "slideshow": {
     "slide_type": "subslide"
    }
   },
   "source": [
    "# Tasks\n",
    "\n",
    "- Implement the actual processing\n",
    "- Consume targets, process data and save results in new target \n",
    "- Respect dependencies to other tasks\n",
    "- Implemented via Python-Classes"
   ]
  },
  {
   "cell_type": "markdown",
   "metadata": {
    "slideshow": {
     "slide_type": "subslide"
    }
   },
   "source": [
    "<img src=\"slides/luigi.png\">"
   ]
  },
  {
   "cell_type": "markdown",
   "metadata": {
    "slideshow": {
     "slide_type": "subslide"
    }
   },
   "source": [
    "# Parameters\n",
    "\n",
    "- like constructur parameters\n",
    "- Luigi takes care of parameter validation\n",
    "- Again, a lot of implementations already exist in the Luigi framework\n",
    "- IntParameter, BoolParameter, DateParameter, etc..."
   ]
  },
  {
   "cell_type": "markdown",
   "metadata": {
    "slideshow": {
     "slide_type": "subslide"
    }
   },
   "source": [
    "# Parameters\n",
    "\n",
    "<img src=\"slides/luigi_parameters.png\" width=\"70%\">"
   ]
  },
  {
   "cell_type": "markdown",
   "metadata": {
    "slideshow": {
     "slide_type": "subslide"
    }
   },
   "source": [
    "# How would our Workflow look like?\n",
    "\n",
    "- Download the dataset\n",
    "    \n",
    "- Extract the data\n",
    "\n",
    "- Create a preprocessing configuration\n",
    "\n",
    "- Run the baseline validation\n",
    "\n",
    "- Train the model\n",
    "\n",
    "- Evaluate the model"
   ]
  },
  {
   "cell_type": "markdown",
   "metadata": {
    "slideshow": {
     "slide_type": "subslide"
    }
   },
   "source": [
    "<img src=\"slides/workflow.png\">"
   ]
  },
  {
   "cell_type": "markdown",
   "metadata": {
    "slideshow": {
     "slide_type": "slide"
    }
   },
   "source": [
    "# TensorFlow Serving\n",
    "\n",
    "<img src=\"slides/tf_serving.png\" width=\"80%\">"
   ]
  },
  {
   "cell_type": "markdown",
   "metadata": {
    "slideshow": {
     "slide_type": "subslide"
    }
   },
   "source": [
    "# TensorFlow Serving\n",
    "\n",
    "- ModelServer as Server-runtime for ML models\n",
    "- Can natively handle TensorFlow graphs\n",
    "- Highly flexible\n",
    "- Designed for production use"
   ]
  },
  {
   "cell_type": "markdown",
   "metadata": {
    "slideshow": {
     "slide_type": "subslide"
    }
   },
   "source": [
    "# TensorFlow Serving in Detail\n",
    "\n",
    "<img src=\"slides/tf_serving_detail.png\">"
   ]
  },
  {
   "cell_type": "markdown",
   "metadata": {
    "slideshow": {
     "slide_type": "subslide"
    }
   },
   "source": [
    "# TensorFlow Serving Components\n",
    "\n",
    "- Protobuf file for graph, checkpoint files for weights (if not frozen)\n",
    "- Version strategy defines how many models are loaded into memory\n",
    "- Clients request inferences via gRPC or REST (yes REST!)\n",
    "- TF-Serving consists of pluggable components, namely sources, loaders and version strategies  "
   ]
  },
  {
   "cell_type": "markdown",
   "metadata": {
    "slideshow": {
     "slide_type": "slide"
    }
   },
   "source": [
    "<img src=\"slides/do_yourself.jpg\">"
   ]
  },
  {
   "cell_type": "markdown",
   "metadata": {
    "slideshow": {
     "slide_type": "slide"
    }
   },
   "source": [
    "# Integrate pre-processing into model\n",
    "\n",
    "- The pre-processing and the model are tightly coupled\n",
    "- Datagenerator can be pickled to make training reproducable\n",
    "- But how can the client be sure to do the \"right\" thing?\n",
    "\n",
    "\n",
    "**Possible ways:**\n",
    "- The client just \"knows\"\n",
    "- Wrap service around model and expose an API\n",
    "- Built the pre-processing right into the model"
   ]
  },
  {
   "cell_type": "code",
   "execution_count": 36,
   "metadata": {
    "slideshow": {
     "slide_type": "skip"
    }
   },
   "outputs": [],
   "source": [
    "from tensorflow import placeholder\n",
    "from tensorflow import divide\n",
    "from tensorflow import constant\n",
    "import tensorflow as tf\n",
    "from keras.layers import Lambda, InputLayer"
   ]
  },
  {
   "cell_type": "code",
   "execution_count": 50,
   "metadata": {
    "slideshow": {
     "slide_type": "subslide"
    }
   },
   "outputs": [],
   "source": [
    "def pre_process(x):\n",
    "    resized = tf.image.resize_images(x, size=[100, 100])\n",
    "    max_color = tf.constant(255, dtype=tf.float32)\n",
    "    rescaled = tf.divide(resized, max_color)\n",
    "    return rescaled\n",
    "\n",
    "additional = Lambda(pre_process, output_shape=(100, 100, 3), name=\"preprocessing\")"
   ]
  },
  {
   "cell_type": "code",
   "execution_count": 51,
   "metadata": {
    "slideshow": {
     "slide_type": "subslide"
    }
   },
   "outputs": [
    {
     "name": "stdout",
     "output_type": "stream",
     "text": [
      "_________________________________________________________________\n",
      "Layer (type)                 Output Shape              Param #   \n",
      "=================================================================\n",
      "input_9 (InputLayer)         (None, None, None, 3)     0         \n",
      "_________________________________________________________________\n",
      "preprocessing (Lambda)       (None, 100, 100, 3)       0         \n",
      "_________________________________________________________________\n",
      "conv2d_5 (Conv2D)            (None, 98, 98, 2)         56        \n",
      "_________________________________________________________________\n",
      "batch_normalization_5 (Batch (None, 98, 98, 2)         8         \n",
      "_________________________________________________________________\n",
      "max_pooling2d_5 (MaxPooling2 (None, 49, 49, 2)         0         \n",
      "_________________________________________________________________\n",
      "dropout_9 (Dropout)          (None, 49, 49, 2)         0         \n",
      "_________________________________________________________________\n",
      "flatten_5 (Flatten)          (None, 4802)              0         \n",
      "_________________________________________________________________\n",
      "dense_9 (Dense)              (None, 16)                76848     \n",
      "_________________________________________________________________\n",
      "dropout_10 (Dropout)         (None, 16)                0         \n",
      "_________________________________________________________________\n",
      "dense_10 (Dense)             (None, 2)                 34        \n",
      "=================================================================\n",
      "Total params: 76,946\n",
      "Trainable params: 76,942\n",
      "Non-trainable params: 4\n",
      "_________________________________________________________________\n"
     ]
    }
   ],
   "source": [
    "prod_model = Sequential()\n",
    "prod_model.add(InputLayer(input_shape=(None, None, 3)))\n",
    "prod_model.add(additional)\n",
    "for layer in model.layers:\n",
    "    prod_model.add(layer)\n",
    "    \n",
    "prod_model.summary()"
   ]
  }
 ],
 "metadata": {
  "celltoolbar": "Slideshow",
  "kernelspec": {
   "display_name": "Python 2",
   "language": "python",
   "name": "python2"
  },
  "language_info": {
   "codemirror_mode": {
    "name": "ipython",
    "version": 2
   },
   "file_extension": ".py",
   "mimetype": "text/x-python",
   "name": "python",
   "nbconvert_exporter": "python",
   "pygments_lexer": "ipython2",
   "version": "2.7.15"
  }
 },
 "nbformat": 4,
 "nbformat_minor": 2
}
