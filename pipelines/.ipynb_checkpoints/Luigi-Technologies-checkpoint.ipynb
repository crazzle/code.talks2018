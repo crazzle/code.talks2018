{
 "cells": [
  {
   "cell_type": "markdown",
   "metadata": {},
   "source": [
    "## From interactive programming to production ready code"
   ]
  },
  {
   "cell_type": "markdown",
   "metadata": {},
   "source": [
    "### Imports"
   ]
  },
  {
   "cell_type": "code",
   "execution_count": 4,
   "metadata": {},
   "outputs": [],
   "source": [
    "from luigi.parameter import IntParameter, DateParameter\n",
    "from luigi import LocalTarget, Task\n",
    "from luigi.contrib.spark import PySparkTask"
   ]
  },
  {
   "cell_type": "markdown",
   "metadata": {},
   "source": [
    "## A PySpark Task"
   ]
  },
  {
   "cell_type": "code",
   "execution_count": 5,
   "metadata": {},
   "outputs": [],
   "source": [
    "class Classify(PySparkTask):\n",
    "    from datetime import date\n",
    "\n",
    "    date = DateParameter(default=date.today())\n",
    "    version = IntParameter(default=1)\n",
    "\n",
    "    # PySpark Parameter\n",
    "    driver_memory = '1g'\n",
    "    executor_memory = '2g'\n",
    "    executor_cores = '2'\n",
    "    num_executors = '4'\n",
    "    master = 'local'\n",
    "\n",
    "    def requires(self):\n",
    "        return [ModelExists(self.version), Clean(self.date)]\n",
    "\n",
    "    def output(self):\n",
    "        prefix = self.date.strftime(\"%m-%d-%Y\")\n",
    "        return LocalTarget(\"daily/%s/ergebnis.csv\" % prefix)\n",
    "\n",
    "    def main(self, sc, *args):\n",
    "        from pyspark.sql.session import SparkSession\n",
    "        from pyspark.ml import PipelineModel\n",
    "        from pyspark.sql.functions import when\n",
    "\n",
    "        sql = SparkSession.builder.getOrCreate()\n",
    "        df = sql.read.format(\"com.databricks.spark.csv\") \\\n",
    "                     .option(\"delimiter\", \";\") \\\n",
    "                     .option(\"header\", \"true\") \\\n",
    "                     .load(self.input()[1].path)\n",
    "        \n",
    "        # Load model and run classification...\n",
    "        \n",
    "        with self.output().open(\"w\") as out:\n",
    "            ergebnis.toPandas().to_csv(out,\n",
    "                                       encoding='utf-8',\n",
    "                                       index=False,\n",
    "                                       sep=';')"
   ]
  }
 ],
 "metadata": {
  "kernelspec": {
   "display_name": "Python 2",
   "language": "python",
   "name": "python2"
  },
  "language_info": {
   "codemirror_mode": {
    "name": "ipython",
    "version": 2
   },
   "file_extension": ".py",
   "mimetype": "text/x-python",
   "name": "python",
   "nbconvert_exporter": "python",
   "pygments_lexer": "ipython2",
   "version": "2.7.15"
  }
 },
 "nbformat": 4,
 "nbformat_minor": 2
}
