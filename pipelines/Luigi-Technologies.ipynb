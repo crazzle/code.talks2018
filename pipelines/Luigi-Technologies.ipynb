{
 "cells": [
  {
   "cell_type": "markdown",
   "metadata": {},
   "source": [
    "## From interactive programming to production ready code"
   ]
  },
  {
   "cell_type": "markdown",
   "metadata": {},
   "source": [
    "### Imports"
   ]
  },
  {
   "cell_type": "code",
   "execution_count": 4,
   "metadata": {},
   "outputs": [],
   "source": [
    "from luigi.parameter import IntParameter, DateParameter\n",
    "from luigi import LocalTarget, Task\n",
    "from luigi.contrib.spark import PySparkTask"
   ]
  },
  {
   "cell_type": "markdown",
   "metadata": {},
   "source": [
    "## A PySpark Task"
   ]
  },
  {
   "cell_type": "markdown",
   "metadata": {},
   "source": [
    "Luigi supports a variety of Big Data technologies, like PySpark. The **PySparkTask** allows us to implement the PySpark code directly inside the task and provides a lot of options to configure the acquired ressources."
   ]
  },
  {
   "cell_type": "markdown",
   "metadata": {},
   "source": [
    "Also we see a new parameter type - the **DateParameter**. That makes Luigi to a very powerfull data ingestion tool.\n",
    "\n",
    "By calling\n",
    "```bash\n",
    "luigi --module 01_classification_pipeline RangeDailyBase --of Classify \\\n",
    "                                                         --stop=$(date +\"%Y-%m-%d\") \\\n",
    "                                                         --days-back 4 \\\n",
    "                                                         --Classify-version 1 \\\n",
    "                                                         --reverse\n",
    "```\n",
    "we can utilize the **RangeDailyBase** wrapperclass. Executing the line above would execute the **Classify** task 4 times, for the last 4 days until today. This is a perfect tool to run unstable imports.\n"
   ]
  },
  {
   "cell_type": "code",
   "execution_count": 8,
   "metadata": {},
   "outputs": [],
   "source": [
    "class Classify(PySparkTask):\n",
    "    from datetime import date\n",
    "\n",
    "    date = DateParameter(default=date.today())\n",
    "    version = IntParameter(default=1)\n",
    "\n",
    "    # PySpark Parameter\n",
    "    driver_memory = '1g'\n",
    "    executor_memory = '2g'\n",
    "    executor_cores = '2'\n",
    "    num_executors = '4'\n",
    "    master = 'local'\n",
    "\n",
    "    def requires(self):\n",
    "        return [ModelExists(self.version), Clean(self.date)]\n",
    "\n",
    "    def output(self):\n",
    "        prefix = self.date.strftime(\"%m-%d-%Y\")\n",
    "        return LocalTarget(\"daily/%s/ergebnis.csv\" % prefix)\n",
    "\n",
    "    def main(self, sc, *args):\n",
    "        from pyspark.sql.session import SparkSession\n",
    "        sql = SparkSession.builder.getOrCreate()\n",
    "        \n",
    "        df = sql.read.format(\"com.databricks.spark.csv\") \\\n",
    "                     .option(\"delimiter\", \";\") \\\n",
    "                     .option(\"header\", \"true\") \\\n",
    "                     .load(self.input()[1].path)\n",
    "        \n",
    "        # Load model and run classification...\n",
    "        \n",
    "        with self.output().open(\"w\") as out:\n",
    "            # Never do this...\n",
    "            ergebnis.toPandas().to_csv(out,\n",
    "                                       encoding='utf-8',\n",
    "                                       index=False,\n",
    "                                       sep=';')"
   ]
  }
 ],
 "metadata": {
  "kernelspec": {
   "display_name": "Python 2",
   "language": "python",
   "name": "python2"
  },
  "language_info": {
   "codemirror_mode": {
    "name": "ipython",
    "version": 2
   },
   "file_extension": ".py",
   "mimetype": "text/x-python",
   "name": "python",
   "nbconvert_exporter": "python",
   "pygments_lexer": "ipython2",
   "version": "2.7.15"
  }
 },
 "nbformat": 4,
 "nbformat_minor": 2
}
